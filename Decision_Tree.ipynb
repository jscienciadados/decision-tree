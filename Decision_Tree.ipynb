{
  "nbformat": 4,
  "nbformat_minor": 0,
  "metadata": {
    "colab": {
      "name": "Decision-Tree.ipynb",
      "provenance": [],
      "authorship_tag": "ABX9TyMcxuHwUfK2q87/kOtN7NA0",
      "include_colab_link": true
    },
    "kernelspec": {
      "name": "python3",
      "display_name": "Python 3"
    },
    "language_info": {
      "name": "python"
    }
  },
  "cells": [
    {
      "cell_type": "markdown",
      "metadata": {
        "id": "view-in-github",
        "colab_type": "text"
      },
      "source": [
        "<a href=\"https://colab.research.google.com/github/jscienciadados/decision-tree/blob/main/Decision_Tree.ipynb\" target=\"_parent\"><img src=\"https://colab.research.google.com/assets/colab-badge.svg\" alt=\"Open In Colab\"/></a>"
      ]
    },
    {
      "cell_type": "markdown",
      "metadata": {
        "id": "ZtutZGU8grnc"
      },
      "source": [
        "## Decision Tree in Python\n",
        "\n",
        "Entropy and Gini Index"
      ]
    },
    {
      "cell_type": "markdown",
      "metadata": {
        "id": "4dZuCeYehLsn"
      },
      "source": [
        "Pacotes"
      ]
    },
    {
      "cell_type": "code",
      "metadata": {
        "colab": {
          "base_uri": "https://localhost:8080/"
        },
        "id": "Gurm8AQvgcMh",
        "outputId": "2bc6e294-804f-4c6f-b7af-88373b41542f"
      },
      "source": [
        "!pip install pydot"
      ],
      "execution_count": 1,
      "outputs": [
        {
          "output_type": "stream",
          "text": [
            "Requirement already satisfied: pydot in /usr/local/lib/python3.7/dist-packages (1.3.0)\n",
            "Requirement already satisfied: pyparsing>=2.1.4 in /usr/local/lib/python3.7/dist-packages (from pydot) (2.4.7)\n"
          ],
          "name": "stdout"
        }
      ]
    },
    {
      "cell_type": "code",
      "metadata": {
        "colab": {
          "base_uri": "https://localhost:8080/"
        },
        "id": "H-ECz0O7hou1",
        "outputId": "30327db8-3e0f-4855-82d9-a80315a6920d"
      },
      "source": [
        "!pip install graphviz"
      ],
      "execution_count": 2,
      "outputs": [
        {
          "output_type": "stream",
          "text": [
            "Requirement already satisfied: graphviz in /usr/local/lib/python3.7/dist-packages (0.10.1)\n"
          ],
          "name": "stdout"
        }
      ]
    },
    {
      "cell_type": "code",
      "metadata": {
        "id": "BnWH7qEqh52P"
      },
      "source": [
        "# Importando os módulos\n",
        "import pandas as pd\n",
        "from sklearn.tree import DecisionTreeClassifier\n",
        "from sklearn.tree import export_graphviz\n",
        "import pydot\n",
        "import graphviz"
      ],
      "execution_count": 3,
      "outputs": []
    },
    {
      "cell_type": "code",
      "metadata": {
        "id": "MBpzyXDNiiq-"
      },
      "source": [
        "# Criando o dataset\n",
        "instancias = [\n",
        "    {'Melhor Amigo': False, 'Especie': 'Cachorro'},\n",
        "    {'Melhor Amigo': True, 'Especie': 'Cachorro'},\n",
        "    {'Melhor Amigo': True, 'Especie': 'Gato'},\n",
        "    {'Melhor Amigo': True, 'Especie': 'Gato'},\n",
        "    {'Melhor Amigo': False, 'Especie': 'Gato'},\n",
        "    {'Melhor Amigo': True, 'Especie': 'Gato'},\n",
        "    {'Melhor Amigo': True, 'Especie': 'Gato'},\n",
        "    {'Melhor Amigo': False, 'Especie': 'Cachorro'},\n",
        "    {'Melhor Amigo': True, 'Especie': 'Gato'},\n",
        "    {'Melhor Amigo': False, 'Especie': 'Cachorro'},\n",
        "    {'Melhor Amigo': False, 'Especie': 'Cachorro'},\n",
        "    {'Melhor Amigo': False, 'Especie': 'Gato'},\n",
        "    {'Melhor Amigo': True, 'Especie': 'Gato'},\n",
        "    {'Melhor Amigo': True, 'Especie': 'Cachorro'}\n",
        "]"
      ],
      "execution_count": 4,
      "outputs": []
    },
    {
      "cell_type": "code",
      "metadata": {
        "id": "OwLqpZ62ipQj"
      },
      "source": [
        "# Transformando o Dicionário em Dataframe\n",
        "df = pd.DataFrame(instancias)"
      ],
      "execution_count": 5,
      "outputs": []
    },
    {
      "cell_type": "code",
      "metadata": {
        "colab": {
          "base_uri": "https://localhost:8080/",
          "height": 483
        },
        "id": "GMOIHWazjy7e",
        "outputId": "587bde44-3586-49ac-aadd-aab46d49e744"
      },
      "source": [
        "df"
      ],
      "execution_count": 6,
      "outputs": [
        {
          "output_type": "execute_result",
          "data": {
            "text/html": [
              "<div>\n",
              "<style scoped>\n",
              "    .dataframe tbody tr th:only-of-type {\n",
              "        vertical-align: middle;\n",
              "    }\n",
              "\n",
              "    .dataframe tbody tr th {\n",
              "        vertical-align: top;\n",
              "    }\n",
              "\n",
              "    .dataframe thead th {\n",
              "        text-align: right;\n",
              "    }\n",
              "</style>\n",
              "<table border=\"1\" class=\"dataframe\">\n",
              "  <thead>\n",
              "    <tr style=\"text-align: right;\">\n",
              "      <th></th>\n",
              "      <th>Melhor Amigo</th>\n",
              "      <th>Especie</th>\n",
              "    </tr>\n",
              "  </thead>\n",
              "  <tbody>\n",
              "    <tr>\n",
              "      <th>0</th>\n",
              "      <td>False</td>\n",
              "      <td>Cachorro</td>\n",
              "    </tr>\n",
              "    <tr>\n",
              "      <th>1</th>\n",
              "      <td>True</td>\n",
              "      <td>Cachorro</td>\n",
              "    </tr>\n",
              "    <tr>\n",
              "      <th>2</th>\n",
              "      <td>True</td>\n",
              "      <td>Gato</td>\n",
              "    </tr>\n",
              "    <tr>\n",
              "      <th>3</th>\n",
              "      <td>True</td>\n",
              "      <td>Gato</td>\n",
              "    </tr>\n",
              "    <tr>\n",
              "      <th>4</th>\n",
              "      <td>False</td>\n",
              "      <td>Gato</td>\n",
              "    </tr>\n",
              "    <tr>\n",
              "      <th>5</th>\n",
              "      <td>True</td>\n",
              "      <td>Gato</td>\n",
              "    </tr>\n",
              "    <tr>\n",
              "      <th>6</th>\n",
              "      <td>True</td>\n",
              "      <td>Gato</td>\n",
              "    </tr>\n",
              "    <tr>\n",
              "      <th>7</th>\n",
              "      <td>False</td>\n",
              "      <td>Cachorro</td>\n",
              "    </tr>\n",
              "    <tr>\n",
              "      <th>8</th>\n",
              "      <td>True</td>\n",
              "      <td>Gato</td>\n",
              "    </tr>\n",
              "    <tr>\n",
              "      <th>9</th>\n",
              "      <td>False</td>\n",
              "      <td>Cachorro</td>\n",
              "    </tr>\n",
              "    <tr>\n",
              "      <th>10</th>\n",
              "      <td>False</td>\n",
              "      <td>Cachorro</td>\n",
              "    </tr>\n",
              "    <tr>\n",
              "      <th>11</th>\n",
              "      <td>False</td>\n",
              "      <td>Gato</td>\n",
              "    </tr>\n",
              "    <tr>\n",
              "      <th>12</th>\n",
              "      <td>True</td>\n",
              "      <td>Gato</td>\n",
              "    </tr>\n",
              "    <tr>\n",
              "      <th>13</th>\n",
              "      <td>True</td>\n",
              "      <td>Cachorro</td>\n",
              "    </tr>\n",
              "  </tbody>\n",
              "</table>\n",
              "</div>"
            ],
            "text/plain": [
              "    Melhor Amigo   Especie\n",
              "0          False  Cachorro\n",
              "1           True  Cachorro\n",
              "2           True      Gato\n",
              "3           True      Gato\n",
              "4          False      Gato\n",
              "5           True      Gato\n",
              "6           True      Gato\n",
              "7          False  Cachorro\n",
              "8           True      Gato\n",
              "9          False  Cachorro\n",
              "10         False  Cachorro\n",
              "11         False      Gato\n",
              "12          True      Gato\n",
              "13          True  Cachorro"
            ]
          },
          "metadata": {
            "tags": []
          },
          "execution_count": 6
        }
      ]
    },
    {
      "cell_type": "code",
      "metadata": {
        "id": "Dg96_ur_jzuW"
      },
      "source": [
        "# Preparando os dados de treino e de teste\n",
        "X_train = [[1] if a else [0] for a in df['Melhor Amigo']]\n",
        "y_train = [1 if d == 'Cachorro' else 0 for d in df['Especie']]\n",
        "labels = ['Melhor Amigo']\n"
      ],
      "execution_count": 7,
      "outputs": []
    },
    {
      "cell_type": "code",
      "metadata": {
        "colab": {
          "base_uri": "https://localhost:8080/"
        },
        "id": "0cYjz5jilcC9",
        "outputId": "7029df2b-946c-49f5-bc6d-208c6e9b9f63"
      },
      "source": [
        "print(X_train)"
      ],
      "execution_count": 8,
      "outputs": [
        {
          "output_type": "stream",
          "text": [
            "[[0], [1], [1], [1], [0], [1], [1], [0], [1], [0], [0], [0], [1], [1]]\n"
          ],
          "name": "stdout"
        }
      ]
    },
    {
      "cell_type": "code",
      "metadata": {
        "colab": {
          "base_uri": "https://localhost:8080/"
        },
        "id": "71MWpD_JlgyA",
        "outputId": "c87240ae-7ce6-4ef8-b74b-30425746c808"
      },
      "source": [
        "print(y_train)"
      ],
      "execution_count": 9,
      "outputs": [
        {
          "output_type": "stream",
          "text": [
            "[1, 1, 0, 0, 0, 0, 0, 1, 0, 1, 1, 0, 0, 1]\n"
          ],
          "name": "stdout"
        }
      ]
    },
    {
      "cell_type": "markdown",
      "metadata": {
        "id": "NzACzT7Gl_og"
      },
      "source": [
        "## Construindo o Modelo"
      ]
    },
    {
      "cell_type": "code",
      "metadata": {
        "id": "GQMQLDnHlkNj"
      },
      "source": [
        "modelo_v1 = DecisionTreeClassifier(max_depth = None,\n",
        "                                   max_features = None,\n",
        "                                   criterion = 'entropy',\n",
        "                                   min_samples_leaf = 1,\n",
        "                                   min_samples_split = 2)"
      ],
      "execution_count": 10,
      "outputs": []
    },
    {
      "cell_type": "code",
      "metadata": {
        "colab": {
          "base_uri": "https://localhost:8080/"
        },
        "id": "h5R2UJ7qmGaA",
        "outputId": "d45f8b55-c9dc-4013-bed3-bec0c462206d"
      },
      "source": [
        "# Apresentando os dados ao Classificador\n",
        "modelo_v1.fit(X_train, y_train)"
      ],
      "execution_count": 11,
      "outputs": [
        {
          "output_type": "execute_result",
          "data": {
            "text/plain": [
              "DecisionTreeClassifier(ccp_alpha=0.0, class_weight=None, criterion='entropy',\n",
              "                       max_depth=None, max_features=None, max_leaf_nodes=None,\n",
              "                       min_impurity_decrease=0.0, min_impurity_split=None,\n",
              "                       min_samples_leaf=1, min_samples_split=2,\n",
              "                       min_weight_fraction_leaf=0.0, presort='deprecated',\n",
              "                       random_state=None, splitter='best')"
            ]
          },
          "metadata": {
            "tags": []
          },
          "execution_count": 11
        }
      ]
    },
    {
      "cell_type": "code",
      "metadata": {
        "id": "w3VdrwsrmLjL"
      },
      "source": [
        "# Definindo o nome do arquivo com a árvore de decisão\n",
        "arquivo = 'arq/tree_modelo_v1.dot'\n"
      ],
      "execution_count": 12,
      "outputs": []
    },
    {
      "cell_type": "code",
      "metadata": {
        "colab": {
          "base_uri": "https://localhost:8080/",
          "height": 241
        },
        "id": "MjM_dz3MmdNk",
        "outputId": "8e3ad303-e3dc-45d8-eb22-16fc2c1ccf89"
      },
      "source": [
        "# Gerando o gráfico da árvore de decisão\n",
        "export_graphviz(modelo_v1, out_file = arquivo, feature_names = labels)\n",
        "with open(arquivo) as f:\n",
        "    dot_graph = f.read()\n",
        "graphviz.Source(dot_graph)"
      ],
      "execution_count": 13,
      "outputs": [
        {
          "output_type": "execute_result",
          "data": {
            "text/plain": [
              "<graphviz.files.Source at 0x7f5bb6b1b6d0>"
            ],
            "image/svg+xml": "<?xml version=\"1.0\" encoding=\"UTF-8\" standalone=\"no\"?>\n<!DOCTYPE svg PUBLIC \"-//W3C//DTD SVG 1.1//EN\"\n \"http://www.w3.org/Graphics/SVG/1.1/DTD/svg11.dtd\">\n<!-- Generated by graphviz version 2.40.1 (20161225.0304)\n -->\n<!-- Title: Tree Pages: 1 -->\n<svg width=\"246pt\" height=\"165pt\"\n viewBox=\"0.00 0.00 246.00 165.00\" xmlns=\"http://www.w3.org/2000/svg\" xmlns:xlink=\"http://www.w3.org/1999/xlink\">\n<g id=\"graph0\" class=\"graph\" transform=\"scale(1 1) rotate(0) translate(4 161)\">\n<title>Tree</title>\n<polygon fill=\"#ffffff\" stroke=\"transparent\" points=\"-4,4 -4,-161 242,-161 242,4 -4,4\"/>\n<!-- 0 -->\n<g id=\"node1\" class=\"node\">\n<title>0</title>\n<polygon fill=\"none\" stroke=\"#000000\" points=\"191.5,-157 46.5,-157 46.5,-89 191.5,-89 191.5,-157\"/>\n<text text-anchor=\"middle\" x=\"119\" y=\"-141.8\" font-family=\"Times,serif\" font-size=\"14.00\" fill=\"#000000\">Melhor Amigo &lt;= 0.5</text>\n<text text-anchor=\"middle\" x=\"119\" y=\"-126.8\" font-family=\"Times,serif\" font-size=\"14.00\" fill=\"#000000\">entropy = 0.985</text>\n<text text-anchor=\"middle\" x=\"119\" y=\"-111.8\" font-family=\"Times,serif\" font-size=\"14.00\" fill=\"#000000\">samples = 14</text>\n<text text-anchor=\"middle\" x=\"119\" y=\"-96.8\" font-family=\"Times,serif\" font-size=\"14.00\" fill=\"#000000\">value = [8, 6]</text>\n</g>\n<!-- 1 -->\n<g id=\"node2\" class=\"node\">\n<title>1</title>\n<polygon fill=\"none\" stroke=\"#000000\" points=\"110,-53 0,-53 0,0 110,0 110,-53\"/>\n<text text-anchor=\"middle\" x=\"55\" y=\"-37.8\" font-family=\"Times,serif\" font-size=\"14.00\" fill=\"#000000\">entropy = 0.918</text>\n<text text-anchor=\"middle\" x=\"55\" y=\"-22.8\" font-family=\"Times,serif\" font-size=\"14.00\" fill=\"#000000\">samples = 6</text>\n<text text-anchor=\"middle\" x=\"55\" y=\"-7.8\" font-family=\"Times,serif\" font-size=\"14.00\" fill=\"#000000\">value = [2, 4]</text>\n</g>\n<!-- 0&#45;&gt;1 -->\n<g id=\"edge1\" class=\"edge\">\n<title>0&#45;&gt;1</title>\n<path fill=\"none\" stroke=\"#000000\" d=\"M96.436,-88.9777C90.6059,-80.187 84.3169,-70.7044 78.443,-61.8477\"/>\n<polygon fill=\"#000000\" stroke=\"#000000\" points=\"81.1838,-59.6478 72.7399,-53.2485 75.3502,-63.5167 81.1838,-59.6478\"/>\n<text text-anchor=\"middle\" x=\"67.7783\" y=\"-74.0512\" font-family=\"Times,serif\" font-size=\"14.00\" fill=\"#000000\">True</text>\n</g>\n<!-- 2 -->\n<g id=\"node3\" class=\"node\">\n<title>2</title>\n<polygon fill=\"none\" stroke=\"#000000\" points=\"238,-53 128,-53 128,0 238,0 238,-53\"/>\n<text text-anchor=\"middle\" x=\"183\" y=\"-37.8\" font-family=\"Times,serif\" font-size=\"14.00\" fill=\"#000000\">entropy = 0.811</text>\n<text text-anchor=\"middle\" x=\"183\" y=\"-22.8\" font-family=\"Times,serif\" font-size=\"14.00\" fill=\"#000000\">samples = 8</text>\n<text text-anchor=\"middle\" x=\"183\" y=\"-7.8\" font-family=\"Times,serif\" font-size=\"14.00\" fill=\"#000000\">value = [6, 2]</text>\n</g>\n<!-- 0&#45;&gt;2 -->\n<g id=\"edge2\" class=\"edge\">\n<title>0&#45;&gt;2</title>\n<path fill=\"none\" stroke=\"#000000\" d=\"M141.564,-88.9777C147.3941,-80.187 153.6831,-70.7044 159.557,-61.8477\"/>\n<polygon fill=\"#000000\" stroke=\"#000000\" points=\"162.6498,-63.5167 165.2601,-53.2485 156.8162,-59.6478 162.6498,-63.5167\"/>\n<text text-anchor=\"middle\" x=\"170.2217\" y=\"-74.0512\" font-family=\"Times,serif\" font-size=\"14.00\" fill=\"#000000\">False</text>\n</g>\n</g>\n</svg>\n"
          },
          "metadata": {
            "tags": []
          },
          "execution_count": 13
        }
      ]
    },
    {
      "cell_type": "code",
      "metadata": {
        "colab": {
          "base_uri": "https://localhost:8080/"
        },
        "id": "LINi2LRymktk",
        "outputId": "ce1edd3b-57cd-4e57-b6d1-40f618106d16"
      },
      "source": [
        "# Salvando no formato png\n",
        "!dot -Tpng tree_modelo_v1.dot -o tree_modelo_v1.png"
      ],
      "execution_count": 14,
      "outputs": [
        {
          "output_type": "stream",
          "text": [
            "Error: dot: can't open tree_modelo_v1.dot\n"
          ],
          "name": "stdout"
        }
      ]
    },
    {
      "cell_type": "code",
      "metadata": {
        "id": "E6tWM04AnVtF"
      },
      "source": [
        "# Criando o modelo versão 2 com o indice gini\n",
        "modelo_v2 = DecisionTreeClassifier(max_depth = None,\n",
        "                                   max_features = None,\n",
        "                                   min_samples_leaf = 1,\n",
        "                                   min_samples_split = 2)\n"
      ],
      "execution_count": 15,
      "outputs": []
    },
    {
      "cell_type": "code",
      "metadata": {
        "colab": {
          "base_uri": "https://localhost:8080/"
        },
        "id": "y36XaEHOnxtI",
        "outputId": "9ab416e3-4771-45be-9e3c-08d7e9176e87"
      },
      "source": [
        "# Apresentando os dados ao Classificador\n",
        "modelo_v2.fit(X_train, y_train)\n"
      ],
      "execution_count": 16,
      "outputs": [
        {
          "output_type": "execute_result",
          "data": {
            "text/plain": [
              "DecisionTreeClassifier(ccp_alpha=0.0, class_weight=None, criterion='gini',\n",
              "                       max_depth=None, max_features=None, max_leaf_nodes=None,\n",
              "                       min_impurity_decrease=0.0, min_impurity_split=None,\n",
              "                       min_samples_leaf=1, min_samples_split=2,\n",
              "                       min_weight_fraction_leaf=0.0, presort='deprecated',\n",
              "                       random_state=None, splitter='best')"
            ]
          },
          "metadata": {
            "tags": []
          },
          "execution_count": 16
        }
      ]
    },
    {
      "cell_type": "code",
      "metadata": {
        "id": "9lqRcYAtn4Zx"
      },
      "source": [
        "# Definindo o nome do arquivo com a árvore de decisão\n",
        "arquivo1 = 'arq/tree_modelo_v2.dot'\n"
      ],
      "execution_count": 17,
      "outputs": []
    },
    {
      "cell_type": "code",
      "metadata": {
        "colab": {
          "base_uri": "https://localhost:8080/",
          "height": 241
        },
        "id": "JGNNc3_SoD3E",
        "outputId": "2fb7f98b-03ff-48ad-edd1-d7c7373fdd31"
      },
      "source": [
        "# Gerando o gráfico da árvore de decisão\n",
        "export_graphviz(modelo_v2, out_file = arquivo1, feature_names = labels)\n",
        "with open(arquivo) as f:\n",
        "    dot_graph = f.read()\n",
        "graphviz.Source(dot_graph)"
      ],
      "execution_count": 18,
      "outputs": [
        {
          "output_type": "execute_result",
          "data": {
            "text/plain": [
              "<graphviz.files.Source at 0x7f5bb69844d0>"
            ],
            "image/svg+xml": "<?xml version=\"1.0\" encoding=\"UTF-8\" standalone=\"no\"?>\n<!DOCTYPE svg PUBLIC \"-//W3C//DTD SVG 1.1//EN\"\n \"http://www.w3.org/Graphics/SVG/1.1/DTD/svg11.dtd\">\n<!-- Generated by graphviz version 2.40.1 (20161225.0304)\n -->\n<!-- Title: Tree Pages: 1 -->\n<svg width=\"246pt\" height=\"165pt\"\n viewBox=\"0.00 0.00 246.00 165.00\" xmlns=\"http://www.w3.org/2000/svg\" xmlns:xlink=\"http://www.w3.org/1999/xlink\">\n<g id=\"graph0\" class=\"graph\" transform=\"scale(1 1) rotate(0) translate(4 161)\">\n<title>Tree</title>\n<polygon fill=\"#ffffff\" stroke=\"transparent\" points=\"-4,4 -4,-161 242,-161 242,4 -4,4\"/>\n<!-- 0 -->\n<g id=\"node1\" class=\"node\">\n<title>0</title>\n<polygon fill=\"none\" stroke=\"#000000\" points=\"191.5,-157 46.5,-157 46.5,-89 191.5,-89 191.5,-157\"/>\n<text text-anchor=\"middle\" x=\"119\" y=\"-141.8\" font-family=\"Times,serif\" font-size=\"14.00\" fill=\"#000000\">Melhor Amigo &lt;= 0.5</text>\n<text text-anchor=\"middle\" x=\"119\" y=\"-126.8\" font-family=\"Times,serif\" font-size=\"14.00\" fill=\"#000000\">entropy = 0.985</text>\n<text text-anchor=\"middle\" x=\"119\" y=\"-111.8\" font-family=\"Times,serif\" font-size=\"14.00\" fill=\"#000000\">samples = 14</text>\n<text text-anchor=\"middle\" x=\"119\" y=\"-96.8\" font-family=\"Times,serif\" font-size=\"14.00\" fill=\"#000000\">value = [8, 6]</text>\n</g>\n<!-- 1 -->\n<g id=\"node2\" class=\"node\">\n<title>1</title>\n<polygon fill=\"none\" stroke=\"#000000\" points=\"110,-53 0,-53 0,0 110,0 110,-53\"/>\n<text text-anchor=\"middle\" x=\"55\" y=\"-37.8\" font-family=\"Times,serif\" font-size=\"14.00\" fill=\"#000000\">entropy = 0.918</text>\n<text text-anchor=\"middle\" x=\"55\" y=\"-22.8\" font-family=\"Times,serif\" font-size=\"14.00\" fill=\"#000000\">samples = 6</text>\n<text text-anchor=\"middle\" x=\"55\" y=\"-7.8\" font-family=\"Times,serif\" font-size=\"14.00\" fill=\"#000000\">value = [2, 4]</text>\n</g>\n<!-- 0&#45;&gt;1 -->\n<g id=\"edge1\" class=\"edge\">\n<title>0&#45;&gt;1</title>\n<path fill=\"none\" stroke=\"#000000\" d=\"M96.436,-88.9777C90.6059,-80.187 84.3169,-70.7044 78.443,-61.8477\"/>\n<polygon fill=\"#000000\" stroke=\"#000000\" points=\"81.1838,-59.6478 72.7399,-53.2485 75.3502,-63.5167 81.1838,-59.6478\"/>\n<text text-anchor=\"middle\" x=\"67.7783\" y=\"-74.0512\" font-family=\"Times,serif\" font-size=\"14.00\" fill=\"#000000\">True</text>\n</g>\n<!-- 2 -->\n<g id=\"node3\" class=\"node\">\n<title>2</title>\n<polygon fill=\"none\" stroke=\"#000000\" points=\"238,-53 128,-53 128,0 238,0 238,-53\"/>\n<text text-anchor=\"middle\" x=\"183\" y=\"-37.8\" font-family=\"Times,serif\" font-size=\"14.00\" fill=\"#000000\">entropy = 0.811</text>\n<text text-anchor=\"middle\" x=\"183\" y=\"-22.8\" font-family=\"Times,serif\" font-size=\"14.00\" fill=\"#000000\">samples = 8</text>\n<text text-anchor=\"middle\" x=\"183\" y=\"-7.8\" font-family=\"Times,serif\" font-size=\"14.00\" fill=\"#000000\">value = [6, 2]</text>\n</g>\n<!-- 0&#45;&gt;2 -->\n<g id=\"edge2\" class=\"edge\">\n<title>0&#45;&gt;2</title>\n<path fill=\"none\" stroke=\"#000000\" d=\"M141.564,-88.9777C147.3941,-80.187 153.6831,-70.7044 159.557,-61.8477\"/>\n<polygon fill=\"#000000\" stroke=\"#000000\" points=\"162.6498,-63.5167 165.2601,-53.2485 156.8162,-59.6478 162.6498,-63.5167\"/>\n<text text-anchor=\"middle\" x=\"170.2217\" y=\"-74.0512\" font-family=\"Times,serif\" font-size=\"14.00\" fill=\"#000000\">False</text>\n</g>\n</g>\n</svg>\n"
          },
          "metadata": {
            "tags": []
          },
          "execution_count": 18
        }
      ]
    },
    {
      "cell_type": "code",
      "metadata": {
        "id": "VphTi6C3oJAO"
      },
      "source": [
        ""
      ],
      "execution_count": null,
      "outputs": []
    }
  ]
}