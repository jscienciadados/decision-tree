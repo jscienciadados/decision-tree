{
  "nbformat": 4,
  "nbformat_minor": 0,
  "metadata": {
    "colab": {
      "name": "Decision-Tree-Rpart.ipynb",
      "provenance": [],
      "authorship_tag": "ABX9TyPG97cHohw7/qNC0VOW7TH9",
      "include_colab_link": true
    },
    "kernelspec": {
      "name": "ir",
      "display_name": "R"
    },
    "language_info": {
      "name": "R"
    }
  },
  "cells": [
    {
      "cell_type": "markdown",
      "metadata": {
        "id": "view-in-github",
        "colab_type": "text"
      },
      "source": [
        "<a href=\"https://colab.research.google.com/github/jscienciadados/decision-tree/blob/main/Decision_Tree_Rpart.ipynb\" target=\"_parent\"><img src=\"https://colab.research.google.com/assets/colab-badge.svg\" alt=\"Open In Colab\"/></a>"
      ]
    },
    {
      "cell_type": "markdown",
      "metadata": {
        "id": "3EP5Hmj9ekSV"
      },
      "source": [
        "## Criando Árvore de Decisão com o pacote - Rpart para a linguagem R"
      ]
    },
    {
      "cell_type": "markdown",
      "metadata": {
        "id": "Dia4qUYleyxK"
      },
      "source": [
        "Criando um Dataframe"
      ]
    },
    {
      "cell_type": "code",
      "metadata": {
        "id": "FlMiEbiAecSr"
      },
      "source": [
        "#?expand.grid\n",
        "clima <- expand.grid(Tempo = c(\"Ensolarado\",\"Nublado\",\"Chuvoso\"),\n",
        "                     Temperatura = c(\"Quente\",\"Ameno\",\"Frio\"),\n",
        "                     Humidade = c(\"Alta\",\"Normal\"),\n",
        "                     Vento = c(\"Fraco\",\"Forte\")) "
      ],
      "execution_count": 2,
      "outputs": []
    },
    {
      "cell_type": "code",
      "metadata": {
        "colab": {
          "base_uri": "https://localhost:8080/",
          "height": 283
        },
        "id": "s3SrV7EJfE6G",
        "outputId": "a06aba22-94c5-4bca-83ad-ad84affd7c31"
      },
      "source": [
        "head(clima)"
      ],
      "execution_count": 4,
      "outputs": [
        {
          "output_type": "display_data",
          "data": {
            "text/plain": [
              "  Tempo      Temperatura Humidade Vento\n",
              "1 Ensolarado Quente      Alta     Fraco\n",
              "2 Nublado    Quente      Alta     Fraco\n",
              "3 Chuvoso    Quente      Alta     Fraco\n",
              "4 Ensolarado Ameno       Alta     Fraco\n",
              "5 Nublado    Ameno       Alta     Fraco\n",
              "6 Chuvoso    Ameno       Alta     Fraco"
            ],
            "text/latex": "A data.frame: 6 × 4\n\\begin{tabular}{r|llll}\n  & Tempo & Temperatura & Humidade & Vento\\\\\n  & <fct> & <fct> & <fct> & <fct>\\\\\n\\hline\n\t1 & Ensolarado & Quente & Alta & Fraco\\\\\n\t2 & Nublado    & Quente & Alta & Fraco\\\\\n\t3 & Chuvoso    & Quente & Alta & Fraco\\\\\n\t4 & Ensolarado & Ameno  & Alta & Fraco\\\\\n\t5 & Nublado    & Ameno  & Alta & Fraco\\\\\n\t6 & Chuvoso    & Ameno  & Alta & Fraco\\\\\n\\end{tabular}\n",
            "text/markdown": "\nA data.frame: 6 × 4\n\n| <!--/--> | Tempo &lt;fct&gt; | Temperatura &lt;fct&gt; | Humidade &lt;fct&gt; | Vento &lt;fct&gt; |\n|---|---|---|---|---|\n| 1 | Ensolarado | Quente | Alta | Fraco |\n| 2 | Nublado    | Quente | Alta | Fraco |\n| 3 | Chuvoso    | Quente | Alta | Fraco |\n| 4 | Ensolarado | Ameno  | Alta | Fraco |\n| 5 | Nublado    | Ameno  | Alta | Fraco |\n| 6 | Chuvoso    | Ameno  | Alta | Fraco |\n\n",
            "text/html": [
              "<table class=\"dataframe\">\n",
              "<caption>A data.frame: 6 × 4</caption>\n",
              "<thead>\n",
              "\t<tr><th></th><th scope=col>Tempo</th><th scope=col>Temperatura</th><th scope=col>Humidade</th><th scope=col>Vento</th></tr>\n",
              "\t<tr><th></th><th scope=col>&lt;fct&gt;</th><th scope=col>&lt;fct&gt;</th><th scope=col>&lt;fct&gt;</th><th scope=col>&lt;fct&gt;</th></tr>\n",
              "</thead>\n",
              "<tbody>\n",
              "\t<tr><th scope=row>1</th><td>Ensolarado</td><td>Quente</td><td>Alta</td><td>Fraco</td></tr>\n",
              "\t<tr><th scope=row>2</th><td>Nublado   </td><td>Quente</td><td>Alta</td><td>Fraco</td></tr>\n",
              "\t<tr><th scope=row>3</th><td>Chuvoso   </td><td>Quente</td><td>Alta</td><td>Fraco</td></tr>\n",
              "\t<tr><th scope=row>4</th><td>Ensolarado</td><td>Ameno </td><td>Alta</td><td>Fraco</td></tr>\n",
              "\t<tr><th scope=row>5</th><td>Nublado   </td><td>Ameno </td><td>Alta</td><td>Fraco</td></tr>\n",
              "\t<tr><th scope=row>6</th><td>Chuvoso   </td><td>Ameno </td><td>Alta</td><td>Fraco</td></tr>\n",
              "</tbody>\n",
              "</table>\n"
            ]
          },
          "metadata": {
            "tags": []
          }
        }
      ]
    },
    {
      "cell_type": "code",
      "metadata": {
        "id": "BjqyumEufPpQ"
      },
      "source": [
        "# Vetor para selecionar as linhas\n",
        "response <- c(1, 19, 4, 31, 16, 2, 11, 23, 35, 6, 24, 15, 18, 36)"
      ],
      "execution_count": 5,
      "outputs": []
    },
    {
      "cell_type": "code",
      "metadata": {
        "id": "kjPiQDv5fb2W"
      },
      "source": [
        "# Gerando um vetor do tipo fator para a Variável target\n",
        "play <- as.factor(c(\"Não Jogar\", \"Não Jogar\", \"Não Jogar\", \"Jogar\",\n",
        "                    \"Jogar\", \"Jogar\", \"Jogar\", \"Jogar\", \"Jogar\",\n",
        "                    \"Jogar\", \"Não Jogar\", \"Jogar\", \"Jogar\", \"Não Jogar\")) "
      ],
      "execution_count": 6,
      "outputs": []
    },
    {
      "cell_type": "code",
      "metadata": {
        "id": "-c4UAajNfiCW"
      },
      "source": [
        "# Dataframe Final \n",
        "tenis <- data.frame(clima[response, ], play)"
      ],
      "execution_count": 7,
      "outputs": []
    },
    {
      "cell_type": "code",
      "metadata": {
        "colab": {
          "base_uri": "https://localhost:8080/",
          "height": 283
        },
        "id": "RjJPdsodf1zo",
        "outputId": "1155eb59-41a1-4ffe-d764-42926d545057"
      },
      "source": [
        "head(tenis)"
      ],
      "execution_count": 8,
      "outputs": [
        {
          "output_type": "display_data",
          "data": {
            "text/plain": [
              "   Tempo      Temperatura Humidade Vento play     \n",
              "1  Ensolarado Quente      Alta     Fraco Não Jogar\n",
              "19 Ensolarado Quente      Alta     Forte Não Jogar\n",
              "4  Ensolarado Ameno       Alta     Fraco Não Jogar\n",
              "31 Ensolarado Ameno       Normal   Forte Jogar    \n",
              "16 Ensolarado Frio        Normal   Fraco Jogar    \n",
              "2  Nublado    Quente      Alta     Fraco Jogar    "
            ],
            "text/latex": "A data.frame: 6 × 5\n\\begin{tabular}{r|lllll}\n  & Tempo & Temperatura & Humidade & Vento & play\\\\\n  & <fct> & <fct> & <fct> & <fct> & <fct>\\\\\n\\hline\n\t1 & Ensolarado & Quente & Alta   & Fraco & Não Jogar\\\\\n\t19 & Ensolarado & Quente & Alta   & Forte & Não Jogar\\\\\n\t4 & Ensolarado & Ameno  & Alta   & Fraco & Não Jogar\\\\\n\t31 & Ensolarado & Ameno  & Normal & Forte & Jogar    \\\\\n\t16 & Ensolarado & Frio   & Normal & Fraco & Jogar    \\\\\n\t2 & Nublado    & Quente & Alta   & Fraco & Jogar    \\\\\n\\end{tabular}\n",
            "text/markdown": "\nA data.frame: 6 × 5\n\n| <!--/--> | Tempo &lt;fct&gt; | Temperatura &lt;fct&gt; | Humidade &lt;fct&gt; | Vento &lt;fct&gt; | play &lt;fct&gt; |\n|---|---|---|---|---|---|\n| 1 | Ensolarado | Quente | Alta   | Fraco | Não Jogar |\n| 19 | Ensolarado | Quente | Alta   | Forte | Não Jogar |\n| 4 | Ensolarado | Ameno  | Alta   | Fraco | Não Jogar |\n| 31 | Ensolarado | Ameno  | Normal | Forte | Jogar     |\n| 16 | Ensolarado | Frio   | Normal | Fraco | Jogar     |\n| 2 | Nublado    | Quente | Alta   | Fraco | Jogar     |\n\n",
            "text/html": [
              "<table class=\"dataframe\">\n",
              "<caption>A data.frame: 6 × 5</caption>\n",
              "<thead>\n",
              "\t<tr><th></th><th scope=col>Tempo</th><th scope=col>Temperatura</th><th scope=col>Humidade</th><th scope=col>Vento</th><th scope=col>play</th></tr>\n",
              "\t<tr><th></th><th scope=col>&lt;fct&gt;</th><th scope=col>&lt;fct&gt;</th><th scope=col>&lt;fct&gt;</th><th scope=col>&lt;fct&gt;</th><th scope=col>&lt;fct&gt;</th></tr>\n",
              "</thead>\n",
              "<tbody>\n",
              "\t<tr><th scope=row>1</th><td>Ensolarado</td><td>Quente</td><td>Alta  </td><td>Fraco</td><td>Não Jogar</td></tr>\n",
              "\t<tr><th scope=row>19</th><td>Ensolarado</td><td>Quente</td><td>Alta  </td><td>Forte</td><td>Não Jogar</td></tr>\n",
              "\t<tr><th scope=row>4</th><td>Ensolarado</td><td>Ameno </td><td>Alta  </td><td>Fraco</td><td>Não Jogar</td></tr>\n",
              "\t<tr><th scope=row>31</th><td>Ensolarado</td><td>Ameno </td><td>Normal</td><td>Forte</td><td>Jogar    </td></tr>\n",
              "\t<tr><th scope=row>16</th><td>Ensolarado</td><td>Frio  </td><td>Normal</td><td>Fraco</td><td>Jogar    </td></tr>\n",
              "\t<tr><th scope=row>2</th><td>Nublado   </td><td>Quente</td><td>Alta  </td><td>Fraco</td><td>Jogar    </td></tr>\n",
              "</tbody>\n",
              "</table>\n"
            ]
          },
          "metadata": {
            "tags": []
          }
        }
      ]
    },
    {
      "cell_type": "code",
      "metadata": {
        "colab": {
          "base_uri": "https://localhost:8080/"
        },
        "id": "acfukO2sf4dl",
        "outputId": "4c882121-80ce-49be-9bfa-799973fadce4"
      },
      "source": [
        "# Instalando o pacote\n",
        "install.packages(\"rpart\", dependencies = T)"
      ],
      "execution_count": 9,
      "outputs": [
        {
          "output_type": "stream",
          "text": [
            "Installing package into ‘/usr/local/lib/R/site-library’\n",
            "(as ‘lib’ is unspecified)\n",
            "\n"
          ],
          "name": "stderr"
        }
      ]
    },
    {
      "cell_type": "code",
      "metadata": {
        "id": "TP-kZXHwgGOt"
      },
      "source": [
        "# carregando o pacote\n",
        "library(rpart)"
      ],
      "execution_count": 10,
      "outputs": []
    },
    {
      "cell_type": "markdown",
      "metadata": {
        "id": "ijvuK8m0gRGP"
      },
      "source": [
        "# Criando o Modelo"
      ]
    },
    {
      "cell_type": "code",
      "metadata": {
        "id": "gX9IySXygPF7"
      },
      "source": [
        "tennis_tree <- rpart(play ~ .,\n",
        "                     data = tenis,\n",
        "                     method = \"class\",\n",
        "                     parms = list(split = \"information\"),\n",
        "                     control = rpart.control(minsplit = 1))\n"
      ],
      "execution_count": 12,
      "outputs": []
    },
    {
      "cell_type": "markdown",
      "metadata": {
        "id": "Qgiz1jZ1gqpk"
      },
      "source": [
        "# Árvore tipo Texto"
      ]
    },
    {
      "cell_type": "code",
      "metadata": {
        "colab": {
          "base_uri": "https://localhost:8080/",
          "height": 323
        },
        "id": "4A_AehJGgjBO",
        "outputId": "15cb666d-fa08-4fd3-f6a2-5077e1b7ce78"
      },
      "source": [
        "tennis_tree"
      ],
      "execution_count": 13,
      "outputs": [
        {
          "output_type": "display_data",
          "data": {
            "text/plain": [
              "n= 14 \n",
              "\n",
              "node), split, n, loss, yval, (yprob)\n",
              "      * denotes terminal node\n",
              "\n",
              " 1) root 14 5 Jogar (0.6428571 0.3571429)  \n",
              "   2) Tempo=Nublado 4 0 Jogar (1.0000000 0.0000000) *\n",
              "   3) Tempo=Ensolarado,Chuvoso 10 5 Jogar (0.5000000 0.5000000)  \n",
              "     6) Humidade=Normal 5 1 Jogar (0.8000000 0.2000000)  \n",
              "      12) Vento=Fraco 3 0 Jogar (1.0000000 0.0000000) *\n",
              "      13) Vento=Forte 2 1 Jogar (0.5000000 0.5000000)  \n",
              "        26) Tempo=Ensolarado 1 0 Jogar (1.0000000 0.0000000) *\n",
              "        27) Tempo=Chuvoso 1 0 Não Jogar (0.0000000 1.0000000) *\n",
              "     7) Humidade=Alta 5 1 Não Jogar (0.2000000 0.8000000)  \n",
              "      14) Tempo=Chuvoso 2 1 Jogar (0.5000000 0.5000000)  \n",
              "        28) Vento=Fraco 1 0 Jogar (1.0000000 0.0000000) *\n",
              "        29) Vento=Forte 1 0 Não Jogar (0.0000000 1.0000000) *\n",
              "      15) Tempo=Ensolarado 3 0 Não Jogar (0.0000000 1.0000000) *"
            ]
          },
          "metadata": {
            "tags": []
          }
        }
      ]
    },
    {
      "cell_type": "markdown",
      "metadata": {
        "id": "0rE1voh-gzR1"
      },
      "source": [
        "# Visualizando de forma gráfica"
      ]
    },
    {
      "cell_type": "code",
      "metadata": {
        "colab": {
          "base_uri": "https://localhost:8080/"
        },
        "id": "lra4WrCqgwHN",
        "outputId": "5dff857b-b0d2-4a19-99cf-f7891a91808c"
      },
      "source": [
        "install.packages(\"rpart.plot\", dependencies = T)\n",
        "library(rpart.plot)"
      ],
      "execution_count": 14,
      "outputs": [
        {
          "output_type": "stream",
          "text": [
            "Installing package into ‘/usr/local/lib/R/site-library’\n",
            "(as ‘lib’ is unspecified)\n",
            "\n",
            "also installing the dependencies ‘plotrix’, ‘Formula’, ‘plotmo’, ‘TeachingDemos’, ‘earth’\n",
            "\n",
            "\n"
          ],
          "name": "stderr"
        }
      ]
    },
    {
      "cell_type": "code",
      "metadata": {
        "colab": {
          "base_uri": "https://localhost:8080/",
          "height": 437
        },
        "id": "QHQypUd4hA5R",
        "outputId": "8a8f2887-a386-4e5f-f2a3-7449611b37ec"
      },
      "source": [
        "prp(tennis_tree, type = 0, extra = 1, under = TRUE, compress = TRUE)"
      ],
      "execution_count": 15,
      "outputs": [
        {
          "output_type": "display_data",
          "data": {
            "image/png": "[encoded data removed]",
            "text/plain": [
              "plot without title"
            ]
          },
          "metadata": {
            "tags": [],
            "image/png": {
              "width": 420,
              "height": 420
            }
          }
        }
      ]
    },
    {
      "cell_type": "markdown",
      "metadata": {
        "id": "LMrsiQFghbAs"
      },
      "source": [
        "## Interpretando a árvore de decisão\n",
        "\n",
        "Para ler os nós da árvore, basta iniciar a partir do nó superior, que corresponde aos dados de treinamento original e, em seguida,\n",
        "começar a ler as regras. Observe que cada nó tem duas derivações: O ramo esquerdo significa que a regra superior é verdadeira\n",
        "e a direita significa que ela é falsa.\n",
        "\n",
        "À esquerda da primeira regra, você vê uma regra terminal importante (uma folha terminal), em um círculo, indicando\n",
        "um resultado positivo, Jogar, que você pode ler como jogar tênis = Verdadeiro. Os números sob a folha terminal mostram\n",
        "quatro exemplos afirmando que esta regra é \"yes\" e zero afirmando \"no\".\n",
        "\n",
        "Considere o atributo \"Vento\" que pode ter os valores \"Fraco\" ou \"Forte\". Calcula-se então a entropia para cada um desses\n",
        "valores e depois a diferença entre a entropia do atributo vento e a soma das entropias de cada um dos valores associados\n",
        "ao atributo, multiplicado pela proporção de exemplos particionados de acordo com o valor (separados de um lado os exemplos\n",
        "com Vento = \"Fraco\" e do outro lado Vento = \"Forte\").\n",
        "\n",
        "Frequentemente, as regras de árvore de decisão não são imediatamente utilizáveis, e você precisa interpretá-las antes do uso.\n",
        "No entanto, eles são claramente inteligíveis (e muito melhor do que um coeficiente de vetores de valores).\n"
      ]
    },
    {
      "cell_type": "markdown",
      "metadata": {
        "id": "SRs7sRaYiQFG"
      },
      "source": [
        "# Gerando Previões com o Modelo"
      ]
    },
    {
      "cell_type": "code",
      "metadata": {
        "id": "bX4zkdgDhYIY"
      },
      "source": [
        "# Dados\n",
        "clima <- expand.grid(Tempo = c(\"Ensolarado\",\"Nublado\",\"Chuvoso\"),\n",
        "                           Temperatura = c(\"Quente\",\"Ameno\",\"Frio\"),\n",
        "                           Humidade = c(\"Alta\",\"Normal\"),\n",
        "                           Vento = c(\"Fraco\",\"Forte\")) "
      ],
      "execution_count": 16,
      "outputs": []
    },
    {
      "cell_type": "code",
      "metadata": {
        "id": "e-kMnkE5i0aT"
      },
      "source": [
        "# Vetor para selecionar as linhas\n",
        "response <- c(2, 20, 3, 33, 17, 4, 5)"
      ],
      "execution_count": 17,
      "outputs": []
    },
    {
      "cell_type": "code",
      "metadata": {
        "colab": {
          "base_uri": "https://localhost:8080/",
          "height": 314
        },
        "id": "BRgTId2Ri5Jj",
        "outputId": "535ebc12-12f7-414d-d31f-5388ae93083b"
      },
      "source": [
        "# Novos dados\n",
        "novos_dados <- data.frame(clima[response,])\n",
        "View(novos_dados)"
      ],
      "execution_count": 18,
      "outputs": [
        {
          "output_type": "display_data",
          "data": {
            "text/markdown": "\nA data.frame: 7 × 4\n\n| <!--/--> | Tempo &lt;fct&gt; | Temperatura &lt;fct&gt; | Humidade &lt;fct&gt; | Vento &lt;fct&gt; |\n|---|---|---|---|---|\n| 2 | Nublado    | Quente | Alta   | Fraco |\n| 20 | Nublado    | Quente | Alta   | Forte |\n| 3 | Chuvoso    | Quente | Alta   | Fraco |\n| 33 | Chuvoso    | Ameno  | Normal | Forte |\n| 17 | Nublado    | Frio   | Normal | Fraco |\n| 4 | Ensolarado | Ameno  | Alta   | Fraco |\n| 5 | Nublado    | Ameno  | Alta   | Fraco |\n\n",
            "text/latex": "A data.frame: 7 × 4\n\\begin{tabular}{r|llll}\n  & Tempo & Temperatura & Humidade & Vento\\\\\n  & <fct> & <fct> & <fct> & <fct>\\\\\n\\hline\n\t2 & Nublado    & Quente & Alta   & Fraco\\\\\n\t20 & Nublado    & Quente & Alta   & Forte\\\\\n\t3 & Chuvoso    & Quente & Alta   & Fraco\\\\\n\t33 & Chuvoso    & Ameno  & Normal & Forte\\\\\n\t17 & Nublado    & Frio   & Normal & Fraco\\\\\n\t4 & Ensolarado & Ameno  & Alta   & Fraco\\\\\n\t5 & Nublado    & Ameno  & Alta   & Fraco\\\\\n\\end{tabular}\n",
            "text/html": [
              "<table class=\"dataframe\">\n",
              "<caption>A data.frame: 7 × 4</caption>\n",
              "<thead>\n",
              "\t<tr><th></th><th scope=col>Tempo</th><th scope=col>Temperatura</th><th scope=col>Humidade</th><th scope=col>Vento</th></tr>\n",
              "\t<tr><th></th><th scope=col>&lt;fct&gt;</th><th scope=col>&lt;fct&gt;</th><th scope=col>&lt;fct&gt;</th><th scope=col>&lt;fct&gt;</th></tr>\n",
              "</thead>\n",
              "<tbody>\n",
              "\t<tr><th scope=row>2</th><td>Nublado   </td><td>Quente</td><td>Alta  </td><td>Fraco</td></tr>\n",
              "\t<tr><th scope=row>20</th><td>Nublado   </td><td>Quente</td><td>Alta  </td><td>Forte</td></tr>\n",
              "\t<tr><th scope=row>3</th><td>Chuvoso   </td><td>Quente</td><td>Alta  </td><td>Fraco</td></tr>\n",
              "\t<tr><th scope=row>33</th><td>Chuvoso   </td><td>Ameno </td><td>Normal</td><td>Forte</td></tr>\n",
              "\t<tr><th scope=row>17</th><td>Nublado   </td><td>Frio  </td><td>Normal</td><td>Fraco</td></tr>\n",
              "\t<tr><th scope=row>4</th><td>Ensolarado</td><td>Ameno </td><td>Alta  </td><td>Fraco</td></tr>\n",
              "\t<tr><th scope=row>5</th><td>Nublado   </td><td>Ameno </td><td>Alta  </td><td>Fraco</td></tr>\n",
              "</tbody>\n",
              "</table>\n"
            ],
            "text/plain": [
              "   Tempo      Temperatura Humidade Vento\n",
              "2  Nublado    Quente      Alta     Fraco\n",
              "20 Nublado    Quente      Alta     Forte\n",
              "3  Chuvoso    Quente      Alta     Fraco\n",
              "33 Chuvoso    Ameno       Normal   Forte\n",
              "17 Nublado    Frio        Normal   Fraco\n",
              "4  Ensolarado Ameno       Alta     Fraco\n",
              "5  Nublado    Ameno       Alta     Fraco"
            ]
          },
          "metadata": {
            "tags": []
          }
        }
      ]
    },
    {
      "cell_type": "code",
      "metadata": {
        "colab": {
          "base_uri": "https://localhost:8080/",
          "height": 283
        },
        "id": "4HEQdUOZi9Zu",
        "outputId": "31fc24f4-f7a6-422c-8d1e-00cc8d91c6d0"
      },
      "source": [
        "predict(tennis_tree, novos_dados)"
      ],
      "execution_count": 19,
      "outputs": [
        {
          "output_type": "display_data",
          "data": {
            "text/plain": [
              "   Jogar Não Jogar\n",
              "2  1     0        \n",
              "20 1     0        \n",
              "3  1     0        \n",
              "33 0     1        \n",
              "17 1     0        \n",
              "4  0     1        \n",
              "5  1     0        "
            ],
            "text/latex": "A matrix: 7 × 2 of type dbl\n\\begin{tabular}{r|ll}\n  & Jogar & Não Jogar\\\\\n\\hline\n\t2 & 1 & 0\\\\\n\t20 & 1 & 0\\\\\n\t3 & 1 & 0\\\\\n\t33 & 0 & 1\\\\\n\t17 & 1 & 0\\\\\n\t4 & 0 & 1\\\\\n\t5 & 1 & 0\\\\\n\\end{tabular}\n",
            "text/markdown": "\nA matrix: 7 × 2 of type dbl\n\n| <!--/--> | Jogar | Não Jogar |\n|---|---|---|\n| 2 | 1 | 0 |\n| 20 | 1 | 0 |\n| 3 | 1 | 0 |\n| 33 | 0 | 1 |\n| 17 | 1 | 0 |\n| 4 | 0 | 1 |\n| 5 | 1 | 0 |\n\n",
            "text/html": [
              "<table class=\"dataframe\">\n",
              "<caption>A matrix: 7 × 2 of type dbl</caption>\n",
              "<thead>\n",
              "\t<tr><th></th><th scope=col>Jogar</th><th scope=col>Não Jogar</th></tr>\n",
              "</thead>\n",
              "<tbody>\n",
              "\t<tr><th scope=row>2</th><td>1</td><td>0</td></tr>\n",
              "\t<tr><th scope=row>20</th><td>1</td><td>0</td></tr>\n",
              "\t<tr><th scope=row>3</th><td>1</td><td>0</td></tr>\n",
              "\t<tr><th scope=row>33</th><td>0</td><td>1</td></tr>\n",
              "\t<tr><th scope=row>17</th><td>1</td><td>0</td></tr>\n",
              "\t<tr><th scope=row>4</th><td>0</td><td>1</td></tr>\n",
              "\t<tr><th scope=row>5</th><td>1</td><td>0</td></tr>\n",
              "</tbody>\n",
              "</table>\n"
            ]
          },
          "metadata": {
            "tags": []
          }
        }
      ]
    },
    {
      "cell_type": "code",
      "metadata": {
        "id": "Zx6ozq7djCrv"
      },
      "source": [
        ""
      ],
      "execution_count": null,
      "outputs": []
    }
  ]
}