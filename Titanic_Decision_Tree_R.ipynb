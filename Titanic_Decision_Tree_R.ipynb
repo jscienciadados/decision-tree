{
  "nbformat": 4,
  "nbformat_minor": 0,
  "metadata": {
    "colab": {
      "name": "Titanic-Decision-Tree-R.ipynb",
      "provenance": [],
      "authorship_tag": "ABX9TyPPTZUUs6EokWkRR2xBdKT2",
      "include_colab_link": true
    },
    "kernelspec": {
      "name": "ir",
      "display_name": "R"
    },
    "language_info": {
      "name": "R"
    }
  },
  "cells": [
    {
      "cell_type": "markdown",
      "metadata": {
        "id": "view-in-github",
        "colab_type": "text"
      },
      "source": [
        "<a href=\"https://colab.research.google.com/github/jscienciadados/decision-tree/blob/main/Titanic_Decision_Tree_R.ipynb\" target=\"_parent\"><img src=\"https://colab.research.google.com/assets/colab-badge.svg\" alt=\"Open In Colab\"/></a>"
      ]
    },
    {
      "cell_type": "markdown",
      "metadata": {
        "id": "miG1j21IkzEF"
      },
      "source": [
        "## Estudando Árvores de Decisão a partir do dataset titanic\n"
      ]
    },
    {
      "cell_type": "markdown",
      "metadata": {
        "id": "VjwICsljlECz"
      },
      "source": [
        "# Gerando o Dataset"
      ]
    },
    {
      "cell_type": "code",
      "metadata": {
        "id": "HMFWaM2dkpJd"
      },
      "source": [
        "data(Titanic, package = \"datasets\")"
      ],
      "execution_count": 1,
      "outputs": []
    },
    {
      "cell_type": "markdown",
      "metadata": {
        "id": "IkLfzwX5lQoA"
      },
      "source": [
        "# Dataframe"
      ]
    },
    {
      "cell_type": "code",
      "metadata": {
        "id": "NUqEz9ELlOfP"
      },
      "source": [
        "dataset <- as.data.frame(Titanic)"
      ],
      "execution_count": 2,
      "outputs": []
    },
    {
      "cell_type": "code",
      "metadata": {
        "colab": {
          "base_uri": "https://localhost:8080/",
          "height": 283
        },
        "id": "zy4LS3sQlY__",
        "outputId": "fb92e507-7d51-4e88-cb64-b599fd88897e"
      },
      "source": [
        "head(dataset)"
      ],
      "execution_count": 3,
      "outputs": [
        {
          "output_type": "display_data",
          "data": {
            "text/plain": [
              "  Class Sex    Age   Survived Freq\n",
              "1 1st   Male   Child No        0  \n",
              "2 2nd   Male   Child No        0  \n",
              "3 3rd   Male   Child No       35  \n",
              "4 Crew  Male   Child No        0  \n",
              "5 1st   Female Child No        0  \n",
              "6 2nd   Female Child No        0  "
            ],
            "text/latex": "A data.frame: 6 × 5\n\\begin{tabular}{r|lllll}\n  & Class & Sex & Age & Survived & Freq\\\\\n  & <fct> & <fct> & <fct> & <fct> & <dbl>\\\\\n\\hline\n\t1 & 1st  & Male   & Child & No &  0\\\\\n\t2 & 2nd  & Male   & Child & No &  0\\\\\n\t3 & 3rd  & Male   & Child & No & 35\\\\\n\t4 & Crew & Male   & Child & No &  0\\\\\n\t5 & 1st  & Female & Child & No &  0\\\\\n\t6 & 2nd  & Female & Child & No &  0\\\\\n\\end{tabular}\n",
            "text/markdown": "\nA data.frame: 6 × 5\n\n| <!--/--> | Class &lt;fct&gt; | Sex &lt;fct&gt; | Age &lt;fct&gt; | Survived &lt;fct&gt; | Freq &lt;dbl&gt; |\n|---|---|---|---|---|---|\n| 1 | 1st  | Male   | Child | No |  0 |\n| 2 | 2nd  | Male   | Child | No |  0 |\n| 3 | 3rd  | Male   | Child | No | 35 |\n| 4 | Crew | Male   | Child | No |  0 |\n| 5 | 1st  | Female | Child | No |  0 |\n| 6 | 2nd  | Female | Child | No |  0 |\n\n",
            "text/html": [
              "<table class=\"dataframe\">\n",
              "<caption>A data.frame: 6 × 5</caption>\n",
              "<thead>\n",
              "\t<tr><th></th><th scope=col>Class</th><th scope=col>Sex</th><th scope=col>Age</th><th scope=col>Survived</th><th scope=col>Freq</th></tr>\n",
              "\t<tr><th></th><th scope=col>&lt;fct&gt;</th><th scope=col>&lt;fct&gt;</th><th scope=col>&lt;fct&gt;</th><th scope=col>&lt;fct&gt;</th><th scope=col>&lt;dbl&gt;</th></tr>\n",
              "</thead>\n",
              "<tbody>\n",
              "\t<tr><th scope=row>1</th><td>1st </td><td>Male  </td><td>Child</td><td>No</td><td> 0</td></tr>\n",
              "\t<tr><th scope=row>2</th><td>2nd </td><td>Male  </td><td>Child</td><td>No</td><td> 0</td></tr>\n",
              "\t<tr><th scope=row>3</th><td>3rd </td><td>Male  </td><td>Child</td><td>No</td><td>35</td></tr>\n",
              "\t<tr><th scope=row>4</th><td>Crew</td><td>Male  </td><td>Child</td><td>No</td><td> 0</td></tr>\n",
              "\t<tr><th scope=row>5</th><td>1st </td><td>Female</td><td>Child</td><td>No</td><td> 0</td></tr>\n",
              "\t<tr><th scope=row>6</th><td>2nd </td><td>Female</td><td>Child</td><td>No</td><td> 0</td></tr>\n",
              "</tbody>\n",
              "</table>\n"
            ]
          },
          "metadata": {
            "tags": []
          }
        }
      ]
    },
    {
      "cell_type": "code",
      "metadata": {
        "colab": {
          "base_uri": "https://localhost:8080/"
        },
        "id": "W-xWeQWhlb6T",
        "outputId": "faa4ffd5-64a7-4d55-f019-21fd394930b4"
      },
      "source": [
        "# Instalando e Carregando o pacote Rpart\n",
        "install.packages(\"rpart\", dependencies = T)\n",
        "library(rpart)"
      ],
      "execution_count": 5,
      "outputs": [
        {
          "output_type": "stream",
          "text": [
            "Installing package into ‘/usr/local/lib/R/site-library’\n",
            "(as ‘lib’ is unspecified)\n",
            "\n"
          ],
          "name": "stderr"
        }
      ]
    },
    {
      "cell_type": "markdown",
      "metadata": {
        "id": "LZ_HZKJ0ltbE"
      },
      "source": [
        "## Criando o Modelo"
      ]
    },
    {
      "cell_type": "code",
      "metadata": {
        "id": "5mARLE3UliMB"
      },
      "source": [
        "titanic_tree <- rpart(Survived ~ Class + Sex + Age,\n",
        "                      data = dataset,\n",
        "                      weights = Freq,\n",
        "                      method = \"class\",\n",
        "                      parms = list(split = \"information\"),\n",
        "                      control = rpart.control(minsplit = 5)) \n"
      ],
      "execution_count": 6,
      "outputs": []
    },
    {
      "cell_type": "code",
      "metadata": {
        "colab": {
          "base_uri": "https://localhost:8080/"
        },
        "id": "juGAaClumMPX",
        "outputId": "54306911-9c40-4912-898a-c282159939db"
      },
      "source": [
        "# Plot\n",
        "install.packages(\"rpart.plot\")\n",
        "library(rpart.plot)"
      ],
      "execution_count": 7,
      "outputs": [
        {
          "output_type": "stream",
          "text": [
            "Installing package into ‘/usr/local/lib/R/site-library’\n",
            "(as ‘lib’ is unspecified)\n",
            "\n"
          ],
          "name": "stderr"
        }
      ]
    },
    {
      "cell_type": "code",
      "metadata": {
        "colab": {
          "base_uri": "https://localhost:8080/",
          "height": 255
        },
        "id": "aLBvH514mZ05",
        "outputId": "38cf6f6b-3563-4110-d30a-a138c3b6a383"
      },
      "source": [
        "titanic_tree"
      ],
      "execution_count": 8,
      "outputs": [
        {
          "output_type": "display_data",
          "data": {
            "text/plain": [
              "n= 32 \n",
              "\n",
              "node), split, n, loss, yval, (yprob)\n",
              "      * denotes terminal node\n",
              "\n",
              " 1) root 32 711 No (0.6769650 0.3230350)  \n",
              "   2) Sex=Male 16 367 No (0.7879838 0.2120162)  \n",
              "     4) Age=Adult 8 338 No (0.7972406 0.2027594) *\n",
              "     5) Age=Child 8  29 No (0.5468750 0.4531250)  \n",
              "      10) Class=3rd 2  13 No (0.7291667 0.2708333) *\n",
              "      11) Class=1st,2nd 4   0 Yes (0.0000000 1.0000000) *\n",
              "   3) Sex=Female 16 126 Yes (0.2680851 0.7319149)  \n",
              "     6) Class=3rd 4  90 No (0.5408163 0.4591837) *\n",
              "     7) Class=1st,2nd,Crew 12  20 Yes (0.0729927 0.9270073) *"
            ]
          },
          "metadata": {
            "tags": []
          }
        }
      ]
    },
    {
      "cell_type": "markdown",
      "metadata": {
        "id": "6D-0DLSVmzJ6"
      },
      "source": [
        "# Imprimindo a árvore antes e depois do puning"
      ]
    },
    {
      "cell_type": "code",
      "metadata": {
        "colab": {
          "base_uri": "https://localhost:8080/",
          "height": 437
        },
        "id": "wrsU4susmeIB",
        "outputId": "e0c8e4e2-2b04-414c-c133-edd1f6c53a6e"
      },
      "source": [
        "# Antes do Pruning\n",
        "prp(titanic_tree, type = 0, extra = 1, under = TRUE, compress = TRUE)\n"
      ],
      "execution_count": 9,
      "outputs": [
        {
          "output_type": "display_data",
          "data": {
            "image/png": "[encoded data removed]",
            "text/plain": [
              "plot without title"
            ]
          },
          "metadata": {
            "tags": [],
            "image/png": {
              "width": 420,
              "height": 420
            }
          }
        }
      ]
    },
    {
      "cell_type": "markdown",
      "metadata": {
        "id": "48K3b8TxnABN"
      },
      "source": [
        "# Pruning -> Poda da árvore\n",
        "\n",
        "Na ciência da computação, poda é a remoção de partes de uma árvore de decisão ou de neurônios de uma rede neural. Isso pode ocorrer porque não há significativa contribuição para a precisão ou interpretabilidade da árvore, reduzindo-se a complexidade da árvore e aumentando-se a sua generalização."
      ]
    },
    {
      "cell_type": "code",
      "metadata": {
        "colab": {
          "base_uri": "https://localhost:8080/",
          "height": 187
        },
        "id": "raF32uvrm-dr",
        "outputId": "758e6f94-8f23-4e4f-b0c2-513c12f67ded"
      },
      "source": [
        "pruned_titanic_tree <- prune(titanic_tree, cp = 0.02)\n",
        "pruned_titanic_tree"
      ],
      "execution_count": 10,
      "outputs": [
        {
          "output_type": "display_data",
          "data": {
            "text/plain": [
              "n= 32 \n",
              "\n",
              "node), split, n, loss, yval, (yprob)\n",
              "      * denotes terminal node\n",
              "\n",
              "1) root 32 711 No (0.6769650 0.3230350)  \n",
              "  2) Sex=Male 16 367 No (0.7879838 0.2120162) *\n",
              "  3) Sex=Female 16 126 Yes (0.2680851 0.7319149)  \n",
              "    6) Class=3rd 4  90 No (0.5408163 0.4591837) *\n",
              "    7) Class=1st,2nd,Crew 12  20 Yes (0.0729927 0.9270073) *"
            ]
          },
          "metadata": {
            "tags": []
          }
        }
      ]
    },
    {
      "cell_type": "code",
      "metadata": {
        "colab": {
          "base_uri": "https://localhost:8080/",
          "height": 437
        },
        "id": "V7yfMjvnnJi9",
        "outputId": "33d644e5-6a35-4018-895a-d051bfc305c6"
      },
      "source": [
        "# Depois do Pruning\n",
        "prp(pruned_titanic_tree, type = 0, extra = 1, under = TRUE, compress = TRUE)"
      ],
      "execution_count": 11,
      "outputs": [
        {
          "output_type": "display_data",
          "data": {
            "image/png": "[encoded data removed]",
            "text/plain": [
              "plot without title"
            ]
          },
          "metadata": {
            "tags": [],
            "image/png": {
              "width": 420,
              "height": 420
            }
          }
        }
      ]
    },
    {
      "cell_type": "code",
      "metadata": {
        "id": "jZ0uvvIcnVgm"
      },
      "source": [
        ""
      ],
      "execution_count": null,
      "outputs": []
    }
  ]
}